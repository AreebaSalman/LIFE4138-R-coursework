{
 "cells": [
  {
   "cell_type": "markdown",
   "id": "65903689",
   "metadata": {},
   "source": [
    "# Python Coursework Conversion"
   ]
  },
  {
   "cell_type": "markdown",
   "id": "e86a2082",
   "metadata": {},
   "source": [
    "This notebook contains the Python equivalent of the R tasks provided."
   ]
  },
  {
   "cell_type": "markdown",
   "id": "fffa755b",
   "metadata": {},
   "source": [
    "### Question 1\n",
    "Create a PANDAS DataFrame with 5 rows and 2 columns. One column should be names, the other should be an Age.\n",
    "\n",
    "Remember to import pandas to be able to use it:\n",
    "\n",
    "```python\n",
    "import pandas as pd\n",
    "```\n",
    "\n",
    "Print your dataframe in the notebook."
   ]
  },
  {
   "cell_type": "code",
   "execution_count": 1,
   "id": "f164fd91",
   "metadata": {},
   "outputs": [
    {
     "name": "stdout",
     "output_type": "stream",
     "text": [
      "Requirement already satisfied: pandas in /home/mbxas26/miniconda3/envs/lectures/lib/python3.13/site-packages (2.2.3)\n",
      "Requirement already satisfied: numpy>=1.26.0 in /home/mbxas26/miniconda3/envs/lectures/lib/python3.13/site-packages (from pandas) (2.2.2)\n",
      "Requirement already satisfied: python-dateutil>=2.8.2 in /home/mbxas26/miniconda3/envs/lectures/lib/python3.13/site-packages (from pandas) (2.9.0)\n",
      "Requirement already satisfied: pytz>=2020.1 in /home/mbxas26/miniconda3/envs/lectures/lib/python3.13/site-packages (from pandas) (2024.2)\n",
      "Requirement already satisfied: tzdata>=2022.7 in /home/mbxas26/miniconda3/envs/lectures/lib/python3.13/site-packages (from pandas) (2024.2)\n",
      "Requirement already satisfied: six>=1.5 in /home/mbxas26/miniconda3/envs/lectures/lib/python3.13/site-packages (from python-dateutil>=2.8.2->pandas) (1.16.0)\n"
     ]
    },
    {
     "name": "stderr",
     "output_type": "stream",
     "text": [
      "/home/mbxas26/miniconda3/envs/lectures/lib/python3.13/site-packages/numpy/_core/getlimits.py:551: UserWarning: Signature b'\\x00\\xd0\\xcc\\xcc\\xcc\\xcc\\xcc\\xcc\\xfb\\xbf\\x00\\x00\\x00\\x00\\x00\\x00' for <class 'numpy.longdouble'> does not match any known type: falling back to type probe function.\n",
      "This warnings indicates broken support for the dtype!\n",
      "  machar = _get_machar(dtype)\n"
     ]
    },
    {
     "name": "stdout",
     "output_type": "stream",
     "text": [
      "     Name  Age\n",
      "0  Areeba   25\n",
      "1    Bela   22\n",
      "2    Noor   26\n",
      "3  Sohaib   22\n",
      "4    Leah   26\n"
     ]
    }
   ],
   "source": [
    "!pip install pandas\n",
    "\n",
    "import pandas as pd\n",
    "# DataFrame\n",
    "data = {\n",
    "  'Name' : [\"Areeba\", \"Bela\", \"Noor\", \"Sohaib\", \"Leah\"],    # names\n",
    "  'Age' : [25, 22, 26, 22, 26,]                             # age\n",
    "}\n",
    "df = pd.DataFrame(data)\n",
    "print(df)\n",
    "\n"
   ]
  },
  {
   "cell_type": "markdown",
   "id": "bb31f387",
   "metadata": {},
   "source": [
    "### Question 2\n",
    "Provide examples of the following data structures in python and print or access them as shown.\n",
    "\n",
    "A list of ints. - print the fourth value.\n",
    "\n",
    "A tuple - print the tuple\n",
    "\n",
    "A dictionary representing the four bases of DNA - print the total number of bases represented by your dictionary.\n",
    "\n",
    "A list of lists of floats. - print the third value in the sixth list.\n",
    "\n",
    "An array of floats -  print the first four items of the array\n",
    "\n",
    "A pandas dataframe - print the 9th row.\n"
   ]
  },
  {
   "cell_type": "code",
   "execution_count": 2,
   "id": "8aa4661c",
   "metadata": {},
   "outputs": [
    {
     "name": "stdout",
     "output_type": "stream",
     "text": [
      "4\n",
      "(10, 20, 30, 40, 50)\n",
      "dna_bases 14\n",
      "5.6\n",
      "[2.8 0.5 3.3 1.7]\n",
      "Name    Miriam\n",
      "Age         22\n",
      "Name: 8, dtype: object\n"
     ]
    }
   ],
   "source": [
    "# list of ints- 4th value\n",
    "ints = [\"1\", \"2\", \"3\", \"4\", \"5\"]\n",
    "print(ints[3])\n",
    "\n",
    "# tuple\n",
    "tuple = (10, 20, 30, 40, 50)\n",
    "print(tuple)\n",
    "\n",
    "# dictionary representing the four bases of DNA\n",
    "dna_bases = {\n",
    "    \"Adenine\": 4,\n",
    "    \"Thymine\": 1,\n",
    "    \"Cytosine\": 3,\n",
    "    \"Guanine\": 6\n",
    "}\n",
    "print(\"dna_bases\", sum(dna_bases.values()))\n",
    "\n",
    "# list of lists of floats\n",
    "list_of_lists_of_Floats = [\n",
    "    (2.1, 1.2, 3.9),\n",
    "    (5.6, 2.8, 1.5),\n",
    "    (7.3, 4.5, 2.9),\n",
    "    (4.1, 2.8, 6.3),\n",
    "    (1.3, 2.6, 4.2),\n",
    "    (3.2, 4.4, 5.6)\n",
    "]\n",
    "print(list_of_lists_of_Floats[5][2])\n",
    "\n",
    "# an array of floats\n",
    "import numpy as np\n",
    "array_of_Floats = np.array([2.8, 0.5, 3.3, 1.7, 5.6, 8.6, 6.3])\n",
    "print(array_of_Floats[:4])\n",
    "\n",
    "# pandas dataframe\n",
    "data = {\n",
    "  'Name' : [\"Areeba\", \"Bela\", \"Noor\", \"Sohaib\", \"Leah\", \"Samuel\", \"Ammar\", \"Thomas\", \"Miriam\"], \n",
    "  'Age' : [25, 22, 26, 22, 26, 24, 32, 25, 22]\n",
    "}\n",
    "df = pd.DataFrame(data)\n",
    "print(df.iloc[8])\n",
    "\n",
    "\n"
   ]
  },
  {
   "cell_type": "markdown",
   "id": "52e30ead",
   "metadata": {},
   "source": [
    "### Question 3\n",
    "\n",
    "Use three different methods to print the numbers 200 to 300."
   ]
  },
  {
   "cell_type": "code",
   "execution_count": 23,
   "id": "1c038f6a",
   "metadata": {},
   "outputs": [
    {
     "name": "stdout",
     "output_type": "stream",
     "text": [
      "200\n",
      "201\n",
      "202\n",
      "203\n",
      "204\n",
      "205\n",
      "206\n",
      "207\n",
      "208\n",
      "209\n",
      "210\n",
      "211\n",
      "212\n",
      "213\n",
      "214\n",
      "215\n",
      "216\n",
      "217\n",
      "218\n",
      "219\n",
      "220\n",
      "221\n",
      "222\n",
      "223\n",
      "224\n",
      "225\n",
      "226\n",
      "227\n",
      "228\n",
      "229\n",
      "230\n",
      "231\n",
      "232\n",
      "233\n",
      "234\n",
      "235\n",
      "236\n",
      "237\n",
      "238\n",
      "239\n",
      "240\n",
      "241\n",
      "242\n",
      "243\n",
      "244\n",
      "245\n",
      "246\n",
      "247\n",
      "248\n",
      "249\n",
      "250\n",
      "251\n",
      "252\n",
      "253\n",
      "254\n",
      "255\n",
      "256\n",
      "257\n",
      "258\n",
      "259\n",
      "260\n",
      "261\n",
      "262\n",
      "263\n",
      "264\n",
      "265\n",
      "266\n",
      "267\n",
      "268\n",
      "269\n",
      "270\n",
      "271\n",
      "272\n",
      "273\n",
      "274\n",
      "275\n",
      "276\n",
      "277\n",
      "278\n",
      "279\n",
      "280\n",
      "281\n",
      "282\n",
      "283\n",
      "284\n",
      "285\n",
      "286\n",
      "287\n",
      "288\n",
      "289\n",
      "290\n",
      "291\n",
      "292\n",
      "293\n",
      "294\n",
      "295\n",
      "296\n",
      "297\n",
      "298\n",
      "299\n",
      "300\n",
      "200\n",
      "201\n",
      "202\n",
      "203\n",
      "204\n",
      "205\n",
      "206\n",
      "207\n",
      "208\n",
      "209\n",
      "210\n",
      "211\n",
      "212\n",
      "213\n",
      "214\n",
      "215\n",
      "216\n",
      "217\n",
      "218\n",
      "219\n",
      "220\n",
      "221\n",
      "222\n",
      "223\n",
      "224\n",
      "225\n",
      "226\n",
      "227\n",
      "228\n",
      "229\n",
      "230\n",
      "231\n",
      "232\n",
      "233\n",
      "234\n",
      "235\n",
      "236\n",
      "237\n",
      "238\n",
      "239\n",
      "240\n",
      "241\n",
      "242\n",
      "243\n",
      "244\n",
      "245\n",
      "246\n",
      "247\n",
      "248\n",
      "249\n",
      "250\n",
      "251\n",
      "252\n",
      "253\n",
      "254\n",
      "255\n",
      "256\n",
      "257\n",
      "258\n",
      "259\n",
      "260\n",
      "261\n",
      "262\n",
      "263\n",
      "264\n",
      "265\n",
      "266\n",
      "267\n",
      "268\n",
      "269\n",
      "270\n",
      "271\n",
      "272\n",
      "273\n",
      "274\n",
      "275\n",
      "276\n",
      "277\n",
      "278\n",
      "279\n",
      "280\n",
      "281\n",
      "282\n",
      "283\n",
      "284\n",
      "285\n",
      "286\n",
      "287\n",
      "288\n",
      "289\n",
      "290\n",
      "291\n",
      "292\n",
      "293\n",
      "294\n",
      "295\n",
      "296\n",
      "297\n",
      "298\n",
      "299\n",
      "300\n",
      "200\n",
      "201\n",
      "202\n",
      "203\n",
      "204\n",
      "205\n",
      "206\n",
      "207\n",
      "208\n",
      "209\n",
      "210\n",
      "211\n",
      "212\n",
      "213\n",
      "214\n",
      "215\n",
      "216\n",
      "217\n",
      "218\n",
      "219\n",
      "220\n",
      "221\n",
      "222\n",
      "223\n",
      "224\n",
      "225\n",
      "226\n",
      "227\n",
      "228\n",
      "229\n",
      "230\n",
      "231\n",
      "232\n",
      "233\n",
      "234\n",
      "235\n",
      "236\n",
      "237\n",
      "238\n",
      "239\n",
      "240\n",
      "241\n",
      "242\n",
      "243\n",
      "244\n",
      "245\n",
      "246\n",
      "247\n",
      "248\n",
      "249\n",
      "250\n",
      "251\n",
      "252\n",
      "253\n",
      "254\n",
      "255\n",
      "256\n",
      "257\n",
      "258\n",
      "259\n",
      "260\n",
      "261\n",
      "262\n",
      "263\n",
      "264\n",
      "265\n",
      "266\n",
      "267\n",
      "268\n",
      "269\n",
      "270\n",
      "271\n",
      "272\n",
      "273\n",
      "274\n",
      "275\n",
      "276\n",
      "277\n",
      "278\n",
      "279\n",
      "280\n",
      "281\n",
      "282\n",
      "283\n",
      "284\n",
      "285\n",
      "286\n",
      "287\n",
      "288\n",
      "289\n",
      "290\n",
      "291\n",
      "292\n",
      "293\n",
      "294\n",
      "295\n",
      "296\n",
      "297\n",
      "298\n",
      "299\n",
      "300\n",
      "200 201 202 203 204 205 206 207 208 209 210 211 212 213 214 215 216 217 218 219 220 221 222 223 224 225 226 227 228 229 230 231 232 233 234 235 236 237 238 239 240 241 242 243 244 245 246 247 248 249 250 251 252 253 254 255 256 257 258 259 260 261 262 263 264 265 266 267 268 269 270 271 272 273 274 275 276 277 278 279 280 281 282 283 284 285 286 287 288 289 290 291 292 293 294 295 296 297 298 299 300\n"
     ]
    }
   ],
   "source": [
    "# Method 1(for loop)\n",
    "l = 200\n",
    "u = 300\n",
    "  \n",
    "for num in range(l, u + 1): \n",
    "    print(num)\n",
    "\n",
    "# Method 2(While loop)\n",
    "i = 200\n",
    "while i <= 300:\n",
    "    print(i)\n",
    "    i += 1\n",
    "\n",
    "# Method 3 (iterative loop)\n",
    "for i in range(200, 301):\n",
    "    print(i)\n",
    "\n",
    "print(\" \".join(map(str, range(200, 301))))\n"
   ]
  },
  {
   "cell_type": "markdown",
   "id": "60f369ff",
   "metadata": {},
   "source": [
    "### Question 4\n",
    "Add or replace the following elements in the list animals (you will need to run the cell below):\n",
    "\n",
    "1. Replace fish wish another animal of your choice.\n",
    "2. Add another animal of your choice to the end of the list.\n",
    "3. Replace octopus with another animal of your choice.\n",
    "\n",
    "Print the edited list. \n"
   ]
  },
  {
   "cell_type": "code",
   "execution_count": 8,
   "id": "0b3abbe4",
   "metadata": {},
   "outputs": [],
   "source": [
    "# Replace elements in this list\n",
    "animals = [\"tiger\", \"lion\", \"badger\", \"fox\", \"rabbit\", \"fish\", \"dog\", \"octopus\"]"
   ]
  },
  {
   "cell_type": "code",
   "execution_count": 9,
   "id": "f6829cd8-333e-42f4-a98f-19677947dbf0",
   "metadata": {},
   "outputs": [
    {
     "name": "stdout",
     "output_type": "stream",
     "text": [
      "Edited list of animals: ['tiger', 'lion', 'badger', 'fox', 'rabbit', 'cat', 'dog', 'elephant', 'horse']\n"
     ]
    }
   ],
   "source": [
    "# replace fish with cat\n",
    "animals[animals.index(\"fish\")] = \"cat\"\n",
    "# add horse in the list\n",
    "animals.append(\"horse\")\n",
    "# replace octopus with elephant\n",
    "animals[animals.index(\"octopus\")] = \"elephant\"\n",
    "print(\"Edited list of animals:\", animals)"
   ]
  },
  {
   "cell_type": "markdown",
   "id": "a909ec97",
   "metadata": {},
   "source": [
    "### Question 5\n",
    "Using pandas, generate a scatterplot of mpg vs hp using the cars dataset. The data set is read in and assigned to a dataframe by running the cell below. Ensure you have imported all the libraries you need. "
   ]
  },
  {
   "cell_type": "code",
   "execution_count": 10,
   "id": "6d615bca-a1f8-4010-ad5d-e8d9acdfe9f1",
   "metadata": {},
   "outputs": [],
   "source": [
    "mtcars = \"https://raw.githubusercontent.com/Apress/mastering-ml-w-python-in-six-steps/refs/heads/master/Chapter_2_Code/Data/mtcars.csv\"\n",
    "cars = pd.read_csv(mtcars)"
   ]
  },
  {
   "cell_type": "code",
   "execution_count": 3,
   "id": "245f98df",
   "metadata": {},
   "outputs": [
    {
     "name": "stdout",
     "output_type": "stream",
     "text": [
      "Requirement already satisfied: matplotlib in /home/mbxas26/miniconda3/envs/lectures/lib/python3.13/site-packages (3.10.0)\n",
      "Requirement already satisfied: contourpy>=1.0.1 in /home/mbxas26/miniconda3/envs/lectures/lib/python3.13/site-packages (from matplotlib) (1.3.1)\n",
      "Requirement already satisfied: cycler>=0.10 in /home/mbxas26/miniconda3/envs/lectures/lib/python3.13/site-packages (from matplotlib) (0.12.1)\n",
      "Requirement already satisfied: fonttools>=4.22.0 in /home/mbxas26/miniconda3/envs/lectures/lib/python3.13/site-packages (from matplotlib) (4.55.3)\n",
      "Requirement already satisfied: kiwisolver>=1.3.1 in /home/mbxas26/miniconda3/envs/lectures/lib/python3.13/site-packages (from matplotlib) (1.4.8)\n",
      "Requirement already satisfied: numpy>=1.23 in /home/mbxas26/miniconda3/envs/lectures/lib/python3.13/site-packages (from matplotlib) (2.2.2)\n",
      "Requirement already satisfied: packaging>=20.0 in /home/mbxas26/miniconda3/envs/lectures/lib/python3.13/site-packages (from matplotlib) (24.1)\n",
      "Requirement already satisfied: pillow>=8 in /home/mbxas26/miniconda3/envs/lectures/lib/python3.13/site-packages (from matplotlib) (11.1.0)\n",
      "Requirement already satisfied: pyparsing>=2.3.1 in /home/mbxas26/miniconda3/envs/lectures/lib/python3.13/site-packages (from matplotlib) (3.2.1)\n",
      "Requirement already satisfied: python-dateutil>=2.7 in /home/mbxas26/miniconda3/envs/lectures/lib/python3.13/site-packages (from matplotlib) (2.9.0)\n",
      "Requirement already satisfied: six>=1.5 in /home/mbxas26/miniconda3/envs/lectures/lib/python3.13/site-packages (from python-dateutil>=2.7->matplotlib) (1.16.0)\n"
     ]
    },
    {
     "data": {
      "image/png": "[encoded data removed]",
      "text/plain": [
       "<Figure size 432x288 with 1 Axes>"
      ]
     },
     "metadata": {
      "needs_background": "light"
     },
     "output_type": "display_data"
    }
   ],
   "source": [
    "# install matplotlib\n",
    "!pip install matplotlib\n",
    "\n",
    "# import libraries\n",
    "import pandas as pd\n",
    "import matplotlib.pyplot as plt\n",
    "\n",
    "# read the Dataset\n",
    "mtcars = \"https://raw.githubusercontent.com/Apress/mastering-ml-w-python-in-six-steps/refs/heads/master/Chapter_2_Code/Data/mtcars.csv\"\n",
    "cars = pd.read_csv(mtcars)\n",
    "\n",
    "# scatter Plot of 'mpg' vs 'hp'\n",
    "plt.scatter(cars['mpg'], cars['hp'], color='green') \n",
    "plt.xlabel('Horsepower (hp)')\n",
    "plt.ylabel('Miles per Gallon (mpg)')\n",
    "plt.title('Scatter Plot of MPG vs Horsepower')\n",
    "plt.show()\n",
    "\n",
    "\n",
    "\n",
    "\n",
    "\n"
   ]
  },
  {
   "cell_type": "markdown",
   "id": "cf249a2f",
   "metadata": {},
   "source": [
    "### Question 6\n",
    "Using the startwars dataset imported below, identify the individuals with tallest height and lowest mass."
   ]
  },
  {
   "cell_type": "code",
   "execution_count": 17,
   "id": "e3327930",
   "metadata": {},
   "outputs": [],
   "source": [
    "starwars_dataset=\"https://www.fabricionarcizo.com/post/starwars/updated_starwars.csv\"\n",
    "starwars = pd.read_csv(starwars_dataset)"
   ]
  },
  {
   "cell_type": "code",
   "execution_count": 37,
   "id": "4031fa56-057e-4ee6-a259-3293c023e688",
   "metadata": {},
   "outputs": [
    {
     "name": "stdout",
     "output_type": "stream",
     "text": [
      "           name  height\n",
      "55  Yarael Poof   264.0\n",
      "             name  mass\n",
      "45  Ratts Tyerell  15.0\n"
     ]
    }
   ],
   "source": [
    "# import library\n",
    "import pandas as pd\n",
    "\n",
    "# convert columns of height and mass to numeric\n",
    "starwars['height'] = pd.to_numeric(starwars['height'], errors='coerce')\n",
    "starwars['mass'] = pd.to_numeric(starwars['mass'], errors='coerce')\n",
    "\n",
    "# tallest height\n",
    "tallest = starwars.loc[starwars['height'] == starwars['height'].max()]\n",
    "print(tallest[['name','height']])\n",
    "\n",
    "# lowest mass\n",
    "tallest = starwars.loc[starwars['mass'] == starwars['mass'].min()]\n",
    "print(tallest[['name','mass']])\n"
   ]
  },
  {
   "cell_type": "markdown",
   "id": "95fa55ae-21d3-4156-ace8-e65b96b7226e",
   "metadata": {},
   "source": [
    "### Question 7\n",
    "Analyze the life expectancy dataset (which can be loaded by running the cell below).\n",
    "\n",
    "Calculate the number of unique countries in the dataset.\n",
    "\n",
    "Calculate the country and year with the highest life expectancy.\n",
    "\n",
    "Calculate the year with the highest total expenditure.\n",
    "\n",
    "Provide your code using pandas.\n"
   ]
  },
  {
   "cell_type": "code",
   "execution_count": 29,
   "id": "c2961279-cbcc-4247-bfa3-63fc06988186",
   "metadata": {},
   "outputs": [],
   "source": [
    "import seaborn as sns\n",
    "life_expectancy = sns.load_dataset('healthexp')"
   ]
  },
  {
   "cell_type": "code",
   "execution_count": 36,
   "id": "fd53b062-7ce2-4d34-9e08-20307a4a24a3",
   "metadata": {},
   "outputs": [
    {
     "name": "stdout",
     "output_type": "stream",
     "text": [
      "6\n",
      "Country            Japan\n",
      "Year                2020\n",
      "Life_Expectancy     84.7\n",
      "Name: 272, dtype: object\n",
      "Year\n",
      "1970     1045.845\n",
      "1971     1267.656\n",
      "1972      919.851\n",
      "1973     1029.621\n",
      "1974     1189.876\n",
      "1975     1741.110\n",
      "1976     2077.011\n",
      "1977     1714.221\n",
      "1978     1930.918\n",
      "1979     2854.866\n",
      "1980     4316.219\n",
      "1981     4142.979\n",
      "1982     4483.537\n",
      "1983     4840.066\n",
      "1984     5189.750\n",
      "1985     6615.696\n",
      "1986     5951.564\n",
      "1987     6365.374\n",
      "1988     6930.341\n",
      "1989     7361.318\n",
      "1990     9439.771\n",
      "1991     8274.058\n",
      "1992    10852.362\n",
      "1993    11339.186\n",
      "1994    11878.966\n",
      "1995    12529.231\n",
      "1996    13416.337\n",
      "1997    13756.013\n",
      "1998    14293.142\n",
      "1999    15021.258\n",
      "2000    16315.205\n",
      "2001    17410.196\n",
      "2002    18818.982\n",
      "2003    19689.979\n",
      "2004    20782.943\n",
      "2005    21619.829\n",
      "2006    22820.139\n",
      "2007    23926.729\n",
      "2008    24926.110\n",
      "2009    25935.866\n",
      "2010    27113.817\n",
      "2011    28273.213\n",
      "2012    29312.189\n",
      "2013    30420.902\n",
      "2014    31328.376\n",
      "2015    32274.910\n",
      "2016    33615.115\n",
      "2017    34644.838\n",
      "2018    35884.872\n",
      "2019    36617.262\n",
      "2020    39779.245\n",
      "Name: Spending_USD, dtype: float64\n"
     ]
    }
   ],
   "source": [
    "# using pandas\n",
    "import pandas as pd\n",
    "\n",
    "# number of unique countries\n",
    "unique_countries = life_expectancy['Country'].nunique()\n",
    "print(unique_countries)\n",
    "\n",
    "# country and year with highest life expectancy\n",
    "highest_life_expectancy = life_expectancy.loc[life_expectancy['Life_Expectancy'].idxmax()]\n",
    "print(highest_life_expectancy[['Country', 'Year', 'Life_Expectancy']])\n",
    "\n",
    "# year with highest total expenditure\n",
    "total_expenditure_by_year = life_expectancy.groupby('Year')['Spending_USD'].sum()\n",
    "highest_expenditure_year = total_expenditure_by_year.idxmax()\n",
    "highest_expenditure_value = total_expenditure_by_year.max()\n",
    "print(total_expenditure_by_year)"
   ]
  },
  {
   "cell_type": "markdown",
   "id": "bc1d87d4",
   "metadata": {},
   "source": [
    "### Question 8\n",
    "Using the diamonds dataset and the plotting code of your choice, plot the following from the diamonds dataset.\n",
    "\n",
    "1. Carat vs Price in a scatter plot.\n",
    "2. A histogram of prices.\n",
    "3. A boxplot of cut vs price.\n",
    "\n",
    "The code can be loaded from seaborn in the cell below."
   ]
  },
  {
   "cell_type": "code",
   "execution_count": 39,
   "id": "0cf57f04-3fa2-470f-906a-d15180943d5f",
   "metadata": {},
   "outputs": [],
   "source": [
    "diamonds = sns.load_dataset('diamonds')"
   ]
  },
  {
   "cell_type": "code",
   "execution_count": 43,
   "id": "0e7638b1",
   "metadata": {},
   "outputs": [
    {
     "data": {
      "image/png": "[encoded data removed]",
      "text/plain": [
       "<Figure size 432x288 with 1 Axes>"
      ]
     },
     "metadata": {
      "needs_background": "light"
     },
     "output_type": "display_data"
    },
    {
     "data": {
      "image/png": "[encoded data removed]",
      "text/plain": [
       "<Figure size 432x288 with 1 Axes>"
      ]
     },
     "metadata": {
      "needs_background": "light"
     },
     "output_type": "display_data"
    },
    {
     "data": {
      "image/png": "[encoded data removed]",
      "text/plain": [
       "<Figure size 432x288 with 1 Axes>"
      ]
     },
     "metadata": {
      "needs_background": "light"
     },
     "output_type": "display_data"
    }
   ],
   "source": [
    "# Importing liraries\n",
    "import seaborn as sns\n",
    "import matplotlib.pyplot as plt\n",
    "\n",
    "# Scatter Plot\n",
    "plt.scatter(diamonds['carat'], diamonds['price'], color='purple')\n",
    "plt.xlabel('Carat')\n",
    "plt.ylabel('Price')\n",
    "plt.title('Scatter plot of Carat vs Price')\n",
    "plt.show()\n",
    "\n",
    "# Histogram\n",
    "plt.hist(diamonds['price'], bins=18, color='blue')\n",
    "plt.xlabel('Price')\n",
    "plt.title('Histogram of Price')\n",
    "plt.show()\n",
    "\n",
    "# Boxplot\n",
    "sns.boxplot(x='cut', y='price', data=diamonds)\n",
    "plt.title('Boxplot of Cut vs Price')\n",
    "plt.show()\n",
    "\n",
    "\n",
    "\n"
   ]
  },
  {
   "cell_type": "markdown",
   "id": "ff76cc7d",
   "metadata": {},
   "source": [
    "### Question 9\n",
    "\n",
    "Using the same dataset, identify the max and min price in diamonds dataset."
   ]
  },
  {
   "cell_type": "code",
   "execution_count": 47,
   "id": "99b1d89e",
   "metadata": {},
   "outputs": [
    {
     "name": "stdout",
     "output_type": "stream",
     "text": [
      "18823\n",
      "326\n"
     ]
    }
   ],
   "source": [
    "# import library\n",
    "import seaborn as sns\n",
    "\n",
    "# load dataset\n",
    "diamonds = sns.load_dataset('diamonds')\n",
    "\n",
    "# Max price\n",
    "max_price = diamonds['price'].max()\n",
    "\n",
    "# Min price\n",
    "min_price = diamonds['price'].min()\n",
    "\n",
    "# results\n",
    "print(max_price)\n",
    "print(min_price)\n"
   ]
  },
  {
   "cell_type": "markdown",
   "id": "f36f35b2",
   "metadata": {},
   "source": [
    "### Question 10\n",
    "Write a function that will convert carat to grams and find the heaviest diamond.\n",
    "\n",
    "1 carat = 0.2 grams"
   ]
  },
  {
   "cell_type": "code",
   "execution_count": 48,
   "id": "68c11dfb",
   "metadata": {},
   "outputs": [
    {
     "name": "stdout",
     "output_type": "stream",
     "text": [
      "carat               5.01\n",
      "weight_in_grams    1.002\n",
      "price              18018\n",
      "Name: 27415, dtype: object\n"
     ]
    }
   ],
   "source": [
    "# import library\n",
    "import seaborn as sns\n",
    "\n",
    "# load the diamonds dataset from seaborn\n",
    "diamonds = sns.load_dataset(\"diamonds\")\n",
    "\n",
    "# function to convert carat to grams\n",
    "def carat_to_grams(carat):\n",
    "    return carat * 0.2\n",
    "\n",
    "# Apply the conversion to a new column 'weight_in_grams'\n",
    "diamonds['weight_in_grams'] = diamonds['carat'].apply(carat_to_grams)\n",
    "\n",
    "# Find the heaviest diamond (maximum weight)\n",
    "heaviest_diamond = diamonds.loc[diamonds['weight_in_grams'].idxmax()]\n",
    "\n",
    "# Display the heaviest diamond details\n",
    "print(heaviest_diamond[['carat', 'weight_in_grams', 'price']])\n",
    "\n",
    "\n"
   ]
  },
  {
   "cell_type": "code",
   "execution_count": null,
   "id": "eb289df4-2c85-4666-8f2d-134b7b0c3fa0",
   "metadata": {},
   "outputs": [],
   "source": []
  }
 ],
 "metadata": {
  "kernelspec": {
   "display_name": "Python 3 (ipykernel)",
   "language": "python",
   "name": "python3"
  },
  "language_info": {
   "codemirror_mode": {
    "name": "ipython",
    "version": 3
   },
   "file_extension": ".py",
   "mimetype": "text/x-python",
   "name": "python",
   "nbconvert_exporter": "python",
   "pygments_lexer": "ipython3",
   "version": "3.13.0"
  }
 },
 "nbformat": 4,
 "nbformat_minor": 5
}
